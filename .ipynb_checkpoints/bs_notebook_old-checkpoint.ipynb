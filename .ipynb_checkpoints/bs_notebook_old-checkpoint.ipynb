{
 "cells": [
  {
   "cell_type": "code",
   "execution_count": 1,
   "metadata": {},
   "outputs": [],
   "source": [
    "from bs4 import BeautifulSoup as bs\n",
    "import requests\n",
    "import pandas as pd\n",
    "from datetime import datetime, date\n",
    "import fm_data_scraper as scraper\n",
    "import json"
   ]
  },
  {
   "cell_type": "code",
   "execution_count": 3,
   "metadata": {},
   "outputs": [],
   "source": [
    "import numpy as np\n",
    "ua_file = 'ua_list.txt'\n",
    "with open(ua_file) as f:\n",
    "    user_agents = f.readlines()\n",
    "\n",
    "user_agents = [ua.replace('\\n', '') for ua in user_agents]"
   ]
  },
  {
   "cell_type": "code",
   "execution_count": 2,
   "metadata": {},
   "outputs": [],
   "source": [
    "import random"
   ]
  },
  {
   "cell_type": "code",
   "execution_count": 9,
   "metadata": {},
   "outputs": [],
   "source": [
    "rand_sec = [1, 3, 5, 2, 6]"
   ]
  },
  {
   "cell_type": "code",
   "execution_count": 6,
   "metadata": {},
   "outputs": [
    {
     "name": "stdout",
     "output_type": "stream",
     "text": [
      "Mozilla/5.0 (Windows NT 6.0; WOW64) AppleWebKit/535.11 (KHTML, like Gecko) Chrome/17.0.963.66 Safari/535.11 <class 'str'>\n",
      "Mozilla/5.0 (Windows; U; Windows NT 5.1; en-US) AppleWebKit/530.5 (KHTML, like Gecko) Chrome/2.0.173.1 Safari/530.5 <class 'str'>\n",
      "Mozilla/5.0 (Windows NT 6.3; WOW64) AppleWebKit/537.36 (KHTML, like Gecko) Chrome/30.0.1599.101 Safari/537.36 <class 'str'>\n",
      "Mozilla/5.0 (Windows NT 6.2; WOW64) AppleWebKit/537.36 (KHTML, like Gecko) Chrome/34.0.1847.116 Safari/537.36 <class 'str'>\n",
      "Mozilla/5.0 (Windows NT 6.1; WOW64) AppleWebKit/537.36 (KHTML, like Gecko) Chrome/51.0.2704.103 Safari/537.36 <class 'str'>\n",
      "Mozilla/5.0 (Macintosh; Intel Mac OS X 10_10_2) AppleWebKit/537.36 (KHTML, like Gecko) Chrome/40.0.2214.38 Safari/537.36 <class 'str'>\n",
      "Mozilla/5.0 (Windows NT 6.3; WOW64) AppleWebKit/537.36 (KHTML, like Gecko) Chrome/30.0.1599.101 Safari/537.36 <class 'str'>\n",
      "Mozilla/5.0 (Windows NT 6.1; WOW64) AppleWebKit/537.36 (KHTML, like Gecko) Chrome/46.0.2490.71 Safari/537.36 <class 'str'>\n",
      "Mozilla/5.0 (Windows NT 6.0; WOW64) AppleWebKit/535.11 (KHTML, like Gecko) Chrome/17.0.963.66 Safari/535.11 <class 'str'>\n",
      "Mozilla/5.0 (X11; U; Windows NT 6; en-US) AppleWebKit/534.12 (KHTML, like Gecko) Chrome/9.0.587.0 Safari/534.12 <class 'str'>\n"
     ]
    }
   ],
   "source": [
    "for i in range(10):\n",
    "    ran = random.choice(user_agents)\n",
    "    print(ran, type(ran))"
   ]
  },
  {
   "cell_type": "code",
   "execution_count": 7,
   "metadata": {},
   "outputs": [
    {
     "data": {
      "text/plain": [
       "str"
      ]
     },
     "execution_count": 7,
     "metadata": {},
     "output_type": "execute_result"
    }
   ],
   "source": [
    "type(user_agents[1])"
   ]
  },
  {
   "cell_type": "code",
   "execution_count": 12,
   "metadata": {},
   "outputs": [
    {
     "data": {
      "text/plain": [
       "{'goalkeeping': {'Aerial Reach': 10,\n",
       "  'Command Of Area': 15,\n",
       "  'Communication': 14,\n",
       "  'Eccentricity': 4,\n",
       "  'First Touch': 8,\n",
       "  'Handling': 12,\n",
       "  'Kicking': 13,\n",
       "  'One On Ones': 16,\n",
       "  'Passing': 9,\n",
       "  'Reflexes': 19,\n",
       "  'Rushing Out': 12,\n",
       "  'Tendency To Punch': 16,\n",
       "  'Throwing': 15},\n",
       " 'mental': {'Aggression': 11,\n",
       "  'Anticipation': 15,\n",
       "  'Bravery': 15,\n",
       "  'Composure': 13,\n",
       "  'Concentration': 18,\n",
       "  'Decisions': 15,\n",
       "  'Determination': 16,\n",
       "  'Flair': 8,\n",
       "  'Leadership': 12,\n",
       "  'Off The Ball': 1,\n",
       "  'Positioning': 14,\n",
       "  'Teamwork': 15,\n",
       "  'Vision': 8,\n",
       "  'Work Rate': 15},\n",
       " 'physical': {'Acceleration': 12,\n",
       "  'Agility': 18,\n",
       "  'Balance': 14,\n",
       "  'Jumping Reach': 12,\n",
       "  'Natural Fitness': 17,\n",
       "  'Pace': 14,\n",
       "  'Stamina': 14,\n",
       "  'Strength': 13}}"
      ]
     },
     "execution_count": 12,
     "metadata": {},
     "output_type": "execute_result"
    }
   ],
   "source": [
    "scraper.get_abilities('https://fmdataba.com/19/p/578/keylor-navas/', True)"
   ]
  },
  {
   "cell_type": "code",
   "execution_count": 17,
   "metadata": {},
   "outputs": [],
   "source": [
    "# parse player urls on a single league\n",
    "\n",
    "# url = 'https://fmdataba.com/19/l/4/premier-league/best-players/'\n",
    "\n",
    "urls = ['https://fmdataba.com/19/l/1/la-liga/best-players/',\n",
    "       'https://fmdataba.com/19/l/15/segunda-division/best-players/',\n",
    "        'https://fmdataba.com/19/l/62/segunda-division-b/best-players/',\n",
    "       'https://fmdataba.com/19/l/17/serie-a/best-players/',\n",
    "       'https://fmdataba.com/19/l/31/serie-b/best-players/',\n",
    "       'https://fmdataba.com/19/l/9/ligue-1/best-players/',\n",
    "       'https://fmdataba.com/19/l/22/ligue-2/best-players/',\n",
    "       'https://fmdataba.com/19/l/6/bundesliga/best-players/',\n",
    "       'https://fmdataba.com/19/l/20/2-bundesliga/best-players/',\n",
    "        'https://fmdataba.com/19/l/3/super-lig/best-players/',\n",
    "        'https://fmdataba.com/19/l/21/1-league/best-players/',\n",
    "        'https://fmdataba.com/19/l/10/eredivisie/best-players/',\n",
    "        'https://fmdataba.com/19/l/56/eerste-divisie/best-players/',\n",
    "        'https://fmdataba.com/19/l/18/primeira-liga/best-players/',\n",
    "        'https://fmdataba.com/19/l/58/ledman-liga-pro/best-players/',\n",
    "        'https://fmdataba.com/19/l/36/swiss-super-league/best-players/',\n",
    "        'https://fmdataba.com/19/l/33/austrian-bundesliga/best-players/',\n",
    "        'https://fmdataba.com/19/l/16/pro-league/best-players/',\n",
    "        'https://fmdataba.com/19/l/63/proximus-league/best-players/',\n",
    "        'https://fmdataba.com/19/l/26/russian-premier-league/best-players/',\n",
    "        'https://fmdataba.com/19/l/57/1-division/best-players/',\n",
    "        'https://fmdataba.com/19/l/70/fortuna-narodni-liga/best-players/',\n",
    "        'https://fmdataba.com/19/l/34/czech-first-league/best-players/',\n",
    "        'https://fmdataba.com/19/l/35/danish-superliga/best-players/',\n",
    "        'https://fmdataba.com/19/l/71/nordicbet-liga/best-players/',\n",
    "        'https://fmdataba.com/19/l/19/superleague-greece/best-players/',\n",
    "        'https://fmdataba.com/19/l/72/football-league/best-players/',\n",
    "        'https://fmdataba.com/19/l/52/liga-i/best-players/',\n",
    "        'https://fmdataba.com/19/l/25/scottish-premiership/best-players/',\n",
    "        'https://fmdataba.com/19/l/75/prva-liga/best-players/',\n",
    "        'https://fmdataba.com/19/l/46/serbian-superliga/best-players/',\n",
    "        'https://fmdataba.com/19/l/55/first-football-league/best-players/',\n",
    "        'https://fmdataba.com/19/l/38/israeli-premier-league/best-players/',\n",
    "        'https://fmdataba.com/19/l/45/croatian-first-football-league/best-players/',\n",
    "        'https://fmdataba.com/19/l/40/eliteserien/best-players/',\n",
    "        'https://fmdataba.com/19/l/37/ekstraklasa/best-players/',\n",
    "        'https://fmdataba.com/19/l/27/ukrainian-premier-league/best-players/',\n",
    "        'https://fmdataba.com/19/l/54/slovenian-prvaliga/best-players/',\n",
    "        'https://fmdataba.com/19/l/53/slovak-super-liga/best-players/',\n",
    "        'https://fmdataba.com/19/l/85/superettan/best-players/',\n",
    "        'https://fmdataba.com/19/l/60/nemzeti-bajnoksag-i/best-players/',\n",
    "        'https://fmdataba.com/19/l/41/allsvenskan/best-players/',\n",
    "        'https://fmdataba.com/19/l/97/cyprus-first-division/best-players/',\n",
    "        'https://fmdataba.com/19/l/14/brazil-seria-a/best-players/',\n",
    "        'https://fmdataba.com/19/l/87/brazil-serie-b/best-players/',\n",
    "        'https://fmdataba.com/19/l/23/superliga-argentina/best-players/',\n",
    "        'https://fmdataba.com/19/l/24/liga-mx/best-players/',\n",
    "        'https://fmdataba.com/19/l/50/categoria-primera-a/best-players/',\n",
    "        'https://fmdataba.com/19/l/66/primera-division/best-players/',\n",
    "        'https://fmdataba.com/19/l/44/chinese-super-league/best-players/',\n",
    "        'https://fmdataba.com/19/l/43/k-league-1/best-players/',\n",
    "        'https://fmdataba.com/19/l/104/k-league-2/best-players/',\n",
    "        'https://fmdataba.com/19/l/48/major-league-soccer/best-players/',\n",
    "        'https://fmdataba.com/19/l/96/a-league/best-players/',\n",
    "        'https://fmdataba.com/19/l/105/unknown/best-players/']\n",
    "\n",
    "with open('fm_urls*.txt', 'w') as f:\n",
    "    for url in urls:\n",
    "        for i in range(12):\n",
    "            url2 = url + str(i)\n",
    "            r = requests.get(url2, headers = {'User-Agent':'Mozilla/5.0'})\n",
    "            soup = bs(r.content, 'html.parser')\n",
    "            rows = soup.find(\"table\").find(\"tbody\").find_all(\"tr\")\n",
    "            for r in rows:\n",
    "                if r.find_all('a', href=True):\n",
    "                    f.write(r.find_all('a', href=True)[1]['href'] + '\\n')"
   ]
  },
  {
   "cell_type": "code",
   "execution_count": 18,
   "metadata": {},
   "outputs": [],
   "source": [
    "test_data = scraper.get_profile_data('https://fmdataba.com/19/p/4592/son-heung-min/')"
   ]
  },
  {
   "cell_type": "code",
   "execution_count": 19,
   "metadata": {},
   "outputs": [],
   "source": [
    "# test_data['abilities'] = scraper.get_abilities('https://fmdataba.com/19/p/4592/son-heung-min/')"
   ]
  },
  {
   "cell_type": "code",
   "execution_count": 20,
   "metadata": {},
   "outputs": [
    {
     "data": {
      "text/plain": [
       "{'profile_img': 'https://fmdataba.com/images/p/4592.png',\n",
       " 'name': 'Son Heung-Min ',\n",
       " 'birth_date': '8/7/1992',\n",
       " 'nation': 'South Korea KOR',\n",
       " 'position': 'M (R), AM (RL), ST (C)',\n",
       " 'foot': 'Either'}"
      ]
     },
     "execution_count": 20,
     "metadata": {},
     "output_type": "execute_result"
    }
   ],
   "source": [
    "test_data"
   ]
  },
  {
   "cell_type": "code",
   "execution_count": 21,
   "metadata": {},
   "outputs": [],
   "source": [
    "test_data2 = scraper.get_profile_data('https://fmdataba.com/19/p/1103/marc-andre-ter-stegen/')"
   ]
  },
  {
   "cell_type": "code",
   "execution_count": 22,
   "metadata": {},
   "outputs": [
    {
     "data": {
      "text/plain": [
       "{'profile_img': 'https://fmdataba.com/images/p/1103.png',\n",
       " 'name': 'Marc-André ter Stegen ',\n",
       " 'birth_date': '30/4/1992',\n",
       " 'nation': 'Germany',\n",
       " 'position': 'GK',\n",
       " 'foot': 'Either'}"
      ]
     },
     "execution_count": 22,
     "metadata": {},
     "output_type": "execute_result"
    }
   ],
   "source": [
    "test_data2"
   ]
  },
  {
   "cell_type": "code",
   "execution_count": 23,
   "metadata": {},
   "outputs": [],
   "source": [
    "with open('data.json', 'w') as json_file:  \n",
    "    json.dump([test_data, test_data2], json_file, indent=2)"
   ]
  },
  {
   "cell_type": "code",
   "execution_count": null,
   "metadata": {},
   "outputs": [],
   "source": [
    "user_agent = get_random_ua()\n",
    "print(user_agent)\n",
    "headers = {\n",
    "        'user-agent': user_agent,\n",
    "    }\n"
   ]
  },
  {
   "cell_type": "code",
   "execution_count": 4,
   "metadata": {},
   "outputs": [
    {
     "name": "stdout",
     "output_type": "stream",
     "text": [
      "sleep\n",
      "sleep\n"
     ]
    }
   ],
   "source": [
    "import time\n",
    "\n",
    "time.sleep(2)\n",
    "print('sleep')\n",
    "time.sleep(6)\n",
    "print('sleep')"
   ]
  },
  {
   "cell_type": "code",
   "execution_count": 10,
   "metadata": {},
   "outputs": [],
   "source": [
    "def get_profile_data(url, ua_list, sec_list):\n",
    "    \"\"\"Gets player's profile information based on the URL link given\n",
    "\n",
    "    Parameters\n",
    "    ----------\n",
    "    url : str\n",
    "        The URL of the player data e.g. 'https://fmdataba.com/19/p/1165/lionel-messi/'\n",
    "\n",
    "    Returns\n",
    "    -------\n",
    "    dict\n",
    "        a dict that contains the player profile information (name, nationality, birth date, position, and preferred foot)\n",
    "    \"\"\"\n",
    "\n",
    "    profile_data = {}\n",
    "    # randomize ua_list to prevent getting blocked\n",
    "    time.sleep(random.choice(sec_list))\n",
    "    page = requests.get(url,  headers = {'User-Agent':'Mozilla/5.0'})\n",
    "    soup = bs(page.content, 'html.parser')\n",
    "    rows = soup.find(\"table\").find(\"tbody\").find_all(\"tr\")[0]\n",
    "    tables = pd.read_html(page.text)[0]\n",
    "    img_meta = rows.findAll('img')[0]\n",
    "    idx2 = img_meta['alt'].index('FM')\n",
    "    profile_data['profile_img'] = img_meta['src']\n",
    "    profile_data['name'] = img_meta['alt'][:idx2]\n",
    "    print(profile_data['name'])\n",
    "    profile_data['birth_date'] = tables[1][8].split(' ')[0].strip('()')\n",
    "    try:\n",
    "        nation = tables[1][13].index(\"Main\")\n",
    "    except ValueError:\n",
    "        nation = tables[1][13].split(' ')[0]\n",
    "        \n",
    "    profile_data['nation'] = nation # tables[1][12]#[:idx]\n",
    "    profile_data['position'] = tables[1][21] if len(tables[1]) > 21 else tables[1][20]\n",
    "    profile_data['foot'] = tables[1][19]\n",
    "\n",
    "    return profile_data"
   ]
  },
  {
   "cell_type": "code",
   "execution_count": 83,
   "metadata": {},
   "outputs": [
    {
     "ename": "TypeError",
     "evalue": "get_profile_data() missing 2 required positional arguments: 'ua_list' and 'sec_list'",
     "output_type": "error",
     "traceback": [
      "\u001b[1;31m---------------------------------------------------------------------------\u001b[0m",
      "\u001b[1;31mTypeError\u001b[0m                                 Traceback (most recent call last)",
      "\u001b[1;32m<ipython-input-83-acbbcc167f2e>\u001b[0m in \u001b[0;36m<module>\u001b[1;34m\u001b[0m\n\u001b[0;32m      2\u001b[0m     \u001b[0mdata_list\u001b[0m \u001b[1;33m=\u001b[0m \u001b[1;33m[\u001b[0m\u001b[1;33m]\u001b[0m\u001b[1;33m\u001b[0m\u001b[1;33m\u001b[0m\u001b[0m\n\u001b[0;32m      3\u001b[0m     \u001b[1;32mfor\u001b[0m \u001b[0murl\u001b[0m \u001b[1;32min\u001b[0m \u001b[0mf\u001b[0m\u001b[1;33m:\u001b[0m\u001b[1;33m\u001b[0m\u001b[1;33m\u001b[0m\u001b[0m\n\u001b[1;32m----> 4\u001b[1;33m         \u001b[0mdata\u001b[0m \u001b[1;33m=\u001b[0m \u001b[0mget_profile_data\u001b[0m\u001b[1;33m(\u001b[0m\u001b[0murl\u001b[0m\u001b[1;33m)\u001b[0m\u001b[1;33m\u001b[0m\u001b[1;33m\u001b[0m\u001b[0m\n\u001b[0m\u001b[0;32m      5\u001b[0m         \u001b[0mdata\u001b[0m\u001b[1;33m[\u001b[0m\u001b[1;34m'abilities'\u001b[0m\u001b[1;33m]\u001b[0m \u001b[1;33m=\u001b[0m \u001b[0mscraper\u001b[0m\u001b[1;33m.\u001b[0m\u001b[0mget_abilities\u001b[0m\u001b[1;33m(\u001b[0m\u001b[0murl\u001b[0m\u001b[1;33m)\u001b[0m\u001b[1;33m\u001b[0m\u001b[1;33m\u001b[0m\u001b[0m\n\u001b[0;32m      6\u001b[0m         \u001b[0mdata_list\u001b[0m\u001b[1;33m.\u001b[0m\u001b[0mappend\u001b[0m\u001b[1;33m(\u001b[0m\u001b[0mdata\u001b[0m\u001b[1;33m)\u001b[0m\u001b[1;33m\u001b[0m\u001b[1;33m\u001b[0m\u001b[0m\n",
      "\u001b[1;31mTypeError\u001b[0m: get_profile_data() missing 2 required positional arguments: 'ua_list' and 'sec_list'"
     ]
    }
   ],
   "source": [
    "with open('fm_urls.txt') as f:\n",
    "    data_list = []\n",
    "    for url in f:\n",
    "        data = get_profile_data(url)\n",
    "        data['abilities'] = scraper.get_abilities(url)\n",
    "        data_list.append(data)\n",
    "        \n",
    "with open('data.json', 'w') as json_file:  \n",
    "    json.dump(data_list, json_file, indent=2)"
   ]
  },
  {
   "cell_type": "code",
   "execution_count": 4,
   "metadata": {},
   "outputs": [
    {
     "data": {
      "text/plain": [
       "7"
      ]
     },
     "execution_count": 4,
     "metadata": {},
     "output_type": "execute_result"
    }
   ],
   "source": [
    "nation = \"NigeriaMain 40 caps / 0 goalsYouth 5 caps / 0 goals\"\n",
    "nation.index(\"Main\")"
   ]
  },
  {
   "cell_type": "code",
   "execution_count": 6,
   "metadata": {},
   "outputs": [
    {
     "data": {
      "text/plain": [
       "'Germany'"
      ]
     },
     "execution_count": 6,
     "metadata": {},
     "output_type": "execute_result"
    }
   ],
   "source": [
    "nation2 = \"Germany 0 caps / 0 goalsYouth 0 caps / 0 goals\"\n",
    "\n",
    "try:\n",
    "    res = nation2.index(\"Main\")\n",
    "except ValueError:\n",
    "    res = nation2.split(' ')[0]\n",
    "\n",
    "res"
   ]
  },
  {
   "cell_type": "code",
   "execution_count": 12,
   "metadata": {},
   "outputs": [
    {
     "name": "stdout",
     "output_type": "stream",
     "text": [
      "Eden Hazard \n",
      "Kevin De Bruyne \n",
      "Harry Kane \n",
      "Mohamed Salah \n"
     ]
    },
    {
     "ename": "AttributeError",
     "evalue": "'NoneType' object has no attribute 'find'",
     "output_type": "error",
     "traceback": [
      "\u001b[1;31m---------------------------------------------------------------------------\u001b[0m",
      "\u001b[1;31mAttributeError\u001b[0m                            Traceback (most recent call last)",
      "\u001b[1;32m<ipython-input-12-55268b5c3721>\u001b[0m in \u001b[0;36m<module>\u001b[1;34m\u001b[0m\n\u001b[0;32m      2\u001b[0m     \u001b[0mdata_list\u001b[0m \u001b[1;33m=\u001b[0m \u001b[1;33m[\u001b[0m\u001b[1;33m]\u001b[0m\u001b[1;33m\u001b[0m\u001b[1;33m\u001b[0m\u001b[0m\n\u001b[0;32m      3\u001b[0m     \u001b[1;32mfor\u001b[0m \u001b[0murl\u001b[0m \u001b[1;32min\u001b[0m \u001b[0mf\u001b[0m\u001b[1;33m:\u001b[0m\u001b[1;33m\u001b[0m\u001b[1;33m\u001b[0m\u001b[0m\n\u001b[1;32m----> 4\u001b[1;33m         \u001b[0mdata\u001b[0m \u001b[1;33m=\u001b[0m \u001b[0mget_profile_data\u001b[0m\u001b[1;33m(\u001b[0m\u001b[0murl\u001b[0m\u001b[1;33m,\u001b[0m \u001b[1;33m[\u001b[0m\u001b[1;33m]\u001b[0m\u001b[1;33m,\u001b[0m \u001b[0mrand_sec\u001b[0m\u001b[1;33m)\u001b[0m\u001b[1;33m\u001b[0m\u001b[1;33m\u001b[0m\u001b[0m\n\u001b[0m\u001b[0;32m      5\u001b[0m         \u001b[0mdata\u001b[0m\u001b[1;33m[\u001b[0m\u001b[1;34m'abilities'\u001b[0m\u001b[1;33m]\u001b[0m \u001b[1;33m=\u001b[0m \u001b[0mscraper\u001b[0m\u001b[1;33m.\u001b[0m\u001b[0mget_abilities\u001b[0m\u001b[1;33m(\u001b[0m\u001b[0murl\u001b[0m\u001b[1;33m,\u001b[0m \u001b[1;32mFalse\u001b[0m\u001b[1;33m,\u001b[0m \u001b[1;33m[\u001b[0m\u001b[1;33m]\u001b[0m\u001b[1;33m,\u001b[0m \u001b[0mrand_sec\u001b[0m\u001b[1;33m)\u001b[0m\u001b[1;33m\u001b[0m\u001b[1;33m\u001b[0m\u001b[0m\n\u001b[0;32m      6\u001b[0m         \u001b[0mdata_list\u001b[0m\u001b[1;33m.\u001b[0m\u001b[0mappend\u001b[0m\u001b[1;33m(\u001b[0m\u001b[0mdata\u001b[0m\u001b[1;33m)\u001b[0m\u001b[1;33m\u001b[0m\u001b[1;33m\u001b[0m\u001b[0m\n",
      "\u001b[1;32m<ipython-input-10-b8d14c771e2c>\u001b[0m in \u001b[0;36mget_profile_data\u001b[1;34m(url, ua_list, sec_list)\u001b[0m\n\u001b[0;32m     18\u001b[0m     \u001b[0mpage\u001b[0m \u001b[1;33m=\u001b[0m \u001b[0mrequests\u001b[0m\u001b[1;33m.\u001b[0m\u001b[0mget\u001b[0m\u001b[1;33m(\u001b[0m\u001b[0murl\u001b[0m\u001b[1;33m,\u001b[0m  \u001b[0mheaders\u001b[0m \u001b[1;33m=\u001b[0m \u001b[1;33m{\u001b[0m\u001b[1;34m'User-Agent'\u001b[0m\u001b[1;33m:\u001b[0m\u001b[1;34m'Mozilla/5.0'\u001b[0m\u001b[1;33m}\u001b[0m\u001b[1;33m)\u001b[0m\u001b[1;33m\u001b[0m\u001b[1;33m\u001b[0m\u001b[0m\n\u001b[0;32m     19\u001b[0m     \u001b[0msoup\u001b[0m \u001b[1;33m=\u001b[0m \u001b[0mbs\u001b[0m\u001b[1;33m(\u001b[0m\u001b[0mpage\u001b[0m\u001b[1;33m.\u001b[0m\u001b[0mcontent\u001b[0m\u001b[1;33m,\u001b[0m \u001b[1;34m'html.parser'\u001b[0m\u001b[1;33m)\u001b[0m\u001b[1;33m\u001b[0m\u001b[1;33m\u001b[0m\u001b[0m\n\u001b[1;32m---> 20\u001b[1;33m     \u001b[0mrows\u001b[0m \u001b[1;33m=\u001b[0m \u001b[0msoup\u001b[0m\u001b[1;33m.\u001b[0m\u001b[0mfind\u001b[0m\u001b[1;33m(\u001b[0m\u001b[1;34m\"table\"\u001b[0m\u001b[1;33m)\u001b[0m\u001b[1;33m.\u001b[0m\u001b[0mfind\u001b[0m\u001b[1;33m(\u001b[0m\u001b[1;34m\"tbody\"\u001b[0m\u001b[1;33m)\u001b[0m\u001b[1;33m.\u001b[0m\u001b[0mfind_all\u001b[0m\u001b[1;33m(\u001b[0m\u001b[1;34m\"tr\"\u001b[0m\u001b[1;33m)\u001b[0m\u001b[1;33m[\u001b[0m\u001b[1;36m0\u001b[0m\u001b[1;33m]\u001b[0m\u001b[1;33m\u001b[0m\u001b[1;33m\u001b[0m\u001b[0m\n\u001b[0m\u001b[0;32m     21\u001b[0m     \u001b[0mtables\u001b[0m \u001b[1;33m=\u001b[0m \u001b[0mpd\u001b[0m\u001b[1;33m.\u001b[0m\u001b[0mread_html\u001b[0m\u001b[1;33m(\u001b[0m\u001b[0mpage\u001b[0m\u001b[1;33m.\u001b[0m\u001b[0mtext\u001b[0m\u001b[1;33m)\u001b[0m\u001b[1;33m[\u001b[0m\u001b[1;36m0\u001b[0m\u001b[1;33m]\u001b[0m\u001b[1;33m\u001b[0m\u001b[1;33m\u001b[0m\u001b[0m\n\u001b[0;32m     22\u001b[0m     \u001b[0mimg_meta\u001b[0m \u001b[1;33m=\u001b[0m \u001b[0mrows\u001b[0m\u001b[1;33m.\u001b[0m\u001b[0mfindAll\u001b[0m\u001b[1;33m(\u001b[0m\u001b[1;34m'img'\u001b[0m\u001b[1;33m)\u001b[0m\u001b[1;33m[\u001b[0m\u001b[1;36m0\u001b[0m\u001b[1;33m]\u001b[0m\u001b[1;33m\u001b[0m\u001b[1;33m\u001b[0m\u001b[0m\n",
      "\u001b[1;31mAttributeError\u001b[0m: 'NoneType' object has no attribute 'find'"
     ]
    }
   ],
   "source": [
    "with open('fm_urls.txt') as f:\n",
    "    data_list = []\n",
    "    for url in f:\n",
    "        data = get_profile_data(url, [], rand_sec)\n",
    "        data['abilities'] = scraper.get_abilities(url, False, [], rand_sec)\n",
    "        data_list.append(data)\n",
    "        \n",
    "with open('fm_data1.json', 'w') as json_file:  \n",
    "    json.dump(data_list, json_file, indent=2)"
   ]
  },
  {
   "cell_type": "code",
   "execution_count": 4,
   "metadata": {},
   "outputs": [
    {
     "name": "stdout",
     "output_type": "stream",
     "text": [
      "Collecting html5lib\n",
      "  Downloading https://files.pythonhosted.org/packages/a5/62/bbd2be0e7943ec8504b517e62bab011b4946e1258842bc159e5dfde15b96/html5lib-1.0.1-py2.py3-none-any.whl (117kB)\n",
      "Requirement already satisfied: six>=1.9 in c:\\users\\yj\\appdata\\local\\programs\\python\\python37\\lib\\site-packages (from html5lib) (1.12.0)\n",
      "Requirement already satisfied: webencodings in c:\\users\\yj\\appdata\\local\\programs\\python\\python37\\lib\\site-packages (from html5lib) (0.5.1)\n",
      "Installing collected packages: html5lib\n",
      "Successfully installed html5lib-1.0.1\n"
     ]
    }
   ],
   "source": [
    "!pip install html5lib"
   ]
  },
  {
   "cell_type": "code",
   "execution_count": 67,
   "metadata": {},
   "outputs": [],
   "source": [
    "data_list = []"
   ]
  },
  {
   "cell_type": "code",
   "execution_count": 69,
   "metadata": {
    "scrolled": true
   },
   "outputs": [
    {
     "name": "stdout",
     "output_type": "stream",
     "text": [
      "Nathan Waterston \n"
     ]
    }
   ],
   "source": [
    "url3 = 'https://fmdataba.com/19/p/32421/nathan-waterston/'\n",
    "data = get_profile_data(url3, user_agents)\n",
    "data['abilities'] = scraper.get_abilities(url3)\n",
    "data_list.append(data)\n",
    "with open('data2.json', 'w') as json_file:  \n",
    "    json.dump(data_list, json_file, indent=2)"
   ]
  },
  {
   "cell_type": "code",
   "execution_count": null,
   "metadata": {},
   "outputs": [],
   "source": []
  }
 ],
 "metadata": {
  "kernelspec": {
   "display_name": "Python 3",
   "language": "python",
   "name": "python3"
  },
  "language_info": {
   "codemirror_mode": {
    "name": "ipython",
    "version": 3
   },
   "file_extension": ".py",
   "mimetype": "text/x-python",
   "name": "python",
   "nbconvert_exporter": "python",
   "pygments_lexer": "ipython3",
   "version": "3.7.2"
  }
 },
 "nbformat": 4,
 "nbformat_minor": 2
}
