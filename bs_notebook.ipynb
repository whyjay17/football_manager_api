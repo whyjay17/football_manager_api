{
 "cells": [
  {
   "cell_type": "code",
   "execution_count": 1,
   "metadata": {},
   "outputs": [],
   "source": [
    "from bs4 import BeautifulSoup as bs\n",
    "import requests\n",
    "import pandas as pd\n",
    "from datetime import datetime, date\n",
    "import fm_data_scraper as scraper\n",
    "import json"
   ]
  },
  {
   "cell_type": "code",
   "execution_count": 3,
   "metadata": {},
   "outputs": [],
   "source": [
    "import numpy as np\n",
    "ua_file = 'ua_list.txt'\n",
    "with open(ua_file) as f:\n",
    "    user_agents = f.readlines()\n",
    "\n",
    "user_agents = [ua.replace('\\n', '') for ua in user_agents]"
   ]
  },
  {
   "cell_type": "code",
   "execution_count": 2,
   "metadata": {},
   "outputs": [],
   "source": [
    "import random"
   ]
  },
  {
   "cell_type": "code",
   "execution_count": 9,
   "metadata": {},
   "outputs": [],
   "source": [
    "rand_sec = [1, 3, 5, 2, 6]"
   ]
  },
  {
   "cell_type": "code",
   "execution_count": 6,
   "metadata": {},
   "outputs": [
    {
     "name": "stdout",
     "output_type": "stream",
     "text": [
      "Mozilla/5.0 (Windows NT 6.0; WOW64) AppleWebKit/535.11 (KHTML, like Gecko) Chrome/17.0.963.66 Safari/535.11 <class 'str'>\n",
      "Mozilla/5.0 (Windows; U; Windows NT 5.1; en-US) AppleWebKit/530.5 (KHTML, like Gecko) Chrome/2.0.173.1 Safari/530.5 <class 'str'>\n",
      "Mozilla/5.0 (Windows NT 6.3; WOW64) AppleWebKit/537.36 (KHTML, like Gecko) Chrome/30.0.1599.101 Safari/537.36 <class 'str'>\n",
      "Mozilla/5.0 (Windows NT 6.2; WOW64) AppleWebKit/537.36 (KHTML, like Gecko) Chrome/34.0.1847.116 Safari/537.36 <class 'str'>\n",
      "Mozilla/5.0 (Windows NT 6.1; WOW64) AppleWebKit/537.36 (KHTML, like Gecko) Chrome/51.0.2704.103 Safari/537.36 <class 'str'>\n",
      "Mozilla/5.0 (Macintosh; Intel Mac OS X 10_10_2) AppleWebKit/537.36 (KHTML, like Gecko) Chrome/40.0.2214.38 Safari/537.36 <class 'str'>\n",
      "Mozilla/5.0 (Windows NT 6.3; WOW64) AppleWebKit/537.36 (KHTML, like Gecko) Chrome/30.0.1599.101 Safari/537.36 <class 'str'>\n",
      "Mozilla/5.0 (Windows NT 6.1; WOW64) AppleWebKit/537.36 (KHTML, like Gecko) Chrome/46.0.2490.71 Safari/537.36 <class 'str'>\n",
      "Mozilla/5.0 (Windows NT 6.0; WOW64) AppleWebKit/535.11 (KHTML, like Gecko) Chrome/17.0.963.66 Safari/535.11 <class 'str'>\n",
      "Mozilla/5.0 (X11; U; Windows NT 6; en-US) AppleWebKit/534.12 (KHTML, like Gecko) Chrome/9.0.587.0 Safari/534.12 <class 'str'>\n"
     ]
    }
   ],
   "source": [
    "for i in range(10):\n",
    "    ran = random.choice(user_agents)\n",
    "    print(ran, type(ran))"
   ]
  },
  {
   "cell_type": "code",
   "execution_count": 7,
   "metadata": {},
   "outputs": [
    {
     "data": {
      "text/plain": [
       "str"
      ]
     },
     "execution_count": 7,
     "metadata": {},
     "output_type": "execute_result"
    }
   ],
   "source": [
    "type(user_agents[1])"
   ]
  },
  {
   "cell_type": "code",
   "execution_count": 12,
   "metadata": {},
   "outputs": [
    {
     "data": {
      "text/plain": [
       "{'goalkeeping': {'Aerial Reach': 10,\n",
       "  'Command Of Area': 15,\n",
       "  'Communication': 14,\n",
       "  'Eccentricity': 4,\n",
       "  'First Touch': 8,\n",
       "  'Handling': 12,\n",
       "  'Kicking': 13,\n",
       "  'One On Ones': 16,\n",
       "  'Passing': 9,\n",
       "  'Reflexes': 19,\n",
       "  'Rushing Out': 12,\n",
       "  'Tendency To Punch': 16,\n",
       "  'Throwing': 15},\n",
       " 'mental': {'Aggression': 11,\n",
       "  'Anticipation': 15,\n",
       "  'Bravery': 15,\n",
       "  'Composure': 13,\n",
       "  'Concentration': 18,\n",
       "  'Decisions': 15,\n",
       "  'Determination': 16,\n",
       "  'Flair': 8,\n",
       "  'Leadership': 12,\n",
       "  'Off The Ball': 1,\n",
       "  'Positioning': 14,\n",
       "  'Teamwork': 15,\n",
       "  'Vision': 8,\n",
       "  'Work Rate': 15},\n",
       " 'physical': {'Acceleration': 12,\n",
       "  'Agility': 18,\n",
       "  'Balance': 14,\n",
       "  'Jumping Reach': 12,\n",
       "  'Natural Fitness': 17,\n",
       "  'Pace': 14,\n",
       "  'Stamina': 14,\n",
       "  'Strength': 13}}"
      ]
     },
     "execution_count": 12,
     "metadata": {},
     "output_type": "execute_result"
    }
   ],
   "source": [
    "scraper.get_abilities('https://fmdataba.com/19/p/578/keylor-navas/', True)"
   ]
  },
  {
   "cell_type": "code",
   "execution_count": 17,
   "metadata": {},
   "outputs": [],
   "source": [
    "# parse player urls on a single league\n",
    "\n",
    "# url = 'https://fmdataba.com/19/l/4/premier-league/best-players/'\n",
    "\n",
    "urls = ['https://fmdataba.com/19/l/4/premier-league/best-players/']\n",
    "\n",
    "with open('fm_urls.txt', 'w') as f:\n",
    "    for url in urls:\n",
    "        for i in range(12):\n",
    "            url2 = url + str(i)\n",
    "            r = requests.get(url2, headers = {'User-Agent':'Mozilla/5.0'})\n",
    "            soup = bs(r.content, 'html.parser')\n",
    "            rows = soup.find(\"table\").find(\"tbody\").find_all(\"tr\")\n",
    "            for r in rows:\n",
    "                if r.find_all('a', href=True):\n",
    "                    f.write(r.find_all('a', href=True)[1]['href'] + '\\n')"
   ]
  },
  {
   "cell_type": "code",
   "execution_count": 18,
   "metadata": {},
   "outputs": [],
   "source": [
    "test_data = scraper.get_profile_data('https://fmdataba.com/19/p/4592/son-heung-min/')"
   ]
  },
  {
   "cell_type": "code",
   "execution_count": 19,
   "metadata": {},
   "outputs": [],
   "source": [
    "# test_data['abilities'] = scraper.get_abilities('https://fmdataba.com/19/p/4592/son-heung-min/')"
   ]
  },
  {
   "cell_type": "code",
   "execution_count": 20,
   "metadata": {},
   "outputs": [
    {
     "data": {
      "text/plain": [
       "{'profile_img': 'https://fmdataba.com/images/p/4592.png',\n",
       " 'name': 'Son Heung-Min ',\n",
       " 'birth_date': '8/7/1992',\n",
       " 'nation': 'South Korea KOR',\n",
       " 'position': 'M (R), AM (RL), ST (C)',\n",
       " 'foot': 'Either'}"
      ]
     },
     "execution_count": 20,
     "metadata": {},
     "output_type": "execute_result"
    }
   ],
   "source": [
    "test_data"
   ]
  },
  {
   "cell_type": "code",
   "execution_count": 21,
   "metadata": {},
   "outputs": [],
   "source": [
    "test_data2 = scraper.get_profile_data('https://fmdataba.com/19/p/1103/marc-andre-ter-stegen/')"
   ]
  },
  {
   "cell_type": "code",
   "execution_count": 22,
   "metadata": {},
   "outputs": [
    {
     "data": {
      "text/plain": [
       "{'profile_img': 'https://fmdataba.com/images/p/1103.png',\n",
       " 'name': 'Marc-André ter Stegen ',\n",
       " 'birth_date': '30/4/1992',\n",
       " 'nation': 'Germany',\n",
       " 'position': 'GK',\n",
       " 'foot': 'Either'}"
      ]
     },
     "execution_count": 22,
     "metadata": {},
     "output_type": "execute_result"
    }
   ],
   "source": [
    "test_data2"
   ]
  },
  {
   "cell_type": "code",
   "execution_count": 23,
   "metadata": {},
   "outputs": [],
   "source": [
    "with open('data.json', 'w') as json_file:  \n",
    "    json.dump([test_data, test_data2], json_file, indent=2)"
   ]
  },
  {
   "cell_type": "code",
   "execution_count": null,
   "metadata": {},
   "outputs": [],
   "source": [
    "user_agent = get_random_ua()\n",
    "print(user_agent)\n",
    "headers = {\n",
    "        'user-agent': user_agent,\n",
    "    }\n"
   ]
  },
  {
   "cell_type": "code",
   "execution_count": 4,
   "metadata": {},
   "outputs": [
    {
     "name": "stdout",
     "output_type": "stream",
     "text": [
      "sleep\n",
      "sleep\n"
     ]
    }
   ],
   "source": [
    "import time\n",
    "\n",
    "time.sleep(2)\n",
    "print('sleep')\n",
    "time.sleep(6)\n",
    "print('sleep')"
   ]
  },
  {
   "cell_type": "code",
   "execution_count": 10,
   "metadata": {},
   "outputs": [],
   "source": [
    "def get_profile_data(url, ua_list, sec_list):\n",
    "    \"\"\"Gets player's profile information based on the URL link given\n",
    "\n",
    "    Parameters\n",
    "    ----------\n",
    "    url : str\n",
    "        The URL of the player data e.g. 'https://fmdataba.com/19/p/1165/lionel-messi/'\n",
    "\n",
    "    Returns\n",
    "    -------\n",
    "    dict\n",
    "        a dict that contains the player profile information (name, nationality, birth date, position, and preferred foot)\n",
    "    \"\"\"\n",
    "\n",
    "    profile_data = {}\n",
    "    # randomize ua_list to prevent getting blocked\n",
    "    time.sleep(random.choice(sec_list))\n",
    "    page = requests.get(url,  headers = {'User-Agent':'Mozilla/5.0'})\n",
    "    soup = bs(page.content, 'html.parser')\n",
    "    rows = soup.find(\"table\").find(\"tbody\").find_all(\"tr\")[0]\n",
    "    tables = pd.read_html(page.text)[0]\n",
    "    img_meta = rows.findAll('img')[0]\n",
    "    idx2 = img_meta['alt'].index('FM')\n",
    "    profile_data['profile_img'] = img_meta['src']\n",
    "    profile_data['name'] = img_meta['alt'][:idx2]\n",
    "    print(profile_data['name'])\n",
    "    profile_data['birth_date'] = tables[1][8].split(' ')[0].strip('()')\n",
    "    try:\n",
    "        nation = tables[1][13].index(\"Main\")\n",
    "    except ValueError:\n",
    "        nation = tables[1][13].split(' ')[0]\n",
    "        \n",
    "    profile_data['nation'] = nation # tables[1][12]#[:idx]\n",
    "    profile_data['position'] = tables[1][21] if len(tables[1]) > 21 else tables[1][20]\n",
    "    profile_data['foot'] = tables[1][19]\n",
    "\n",
    "    return profile_data"
   ]
  },
  {
   "cell_type": "code",
   "execution_count": 83,
   "metadata": {},
   "outputs": [
    {
     "ename": "TypeError",
     "evalue": "get_profile_data() missing 2 required positional arguments: 'ua_list' and 'sec_list'",
     "output_type": "error",
     "traceback": [
      "\u001b[1;31m---------------------------------------------------------------------------\u001b[0m",
      "\u001b[1;31mTypeError\u001b[0m                                 Traceback (most recent call last)",
      "\u001b[1;32m<ipython-input-83-acbbcc167f2e>\u001b[0m in \u001b[0;36m<module>\u001b[1;34m\u001b[0m\n\u001b[0;32m      2\u001b[0m     \u001b[0mdata_list\u001b[0m \u001b[1;33m=\u001b[0m \u001b[1;33m[\u001b[0m\u001b[1;33m]\u001b[0m\u001b[1;33m\u001b[0m\u001b[1;33m\u001b[0m\u001b[0m\n\u001b[0;32m      3\u001b[0m     \u001b[1;32mfor\u001b[0m \u001b[0murl\u001b[0m \u001b[1;32min\u001b[0m \u001b[0mf\u001b[0m\u001b[1;33m:\u001b[0m\u001b[1;33m\u001b[0m\u001b[1;33m\u001b[0m\u001b[0m\n\u001b[1;32m----> 4\u001b[1;33m         \u001b[0mdata\u001b[0m \u001b[1;33m=\u001b[0m \u001b[0mget_profile_data\u001b[0m\u001b[1;33m(\u001b[0m\u001b[0murl\u001b[0m\u001b[1;33m)\u001b[0m\u001b[1;33m\u001b[0m\u001b[1;33m\u001b[0m\u001b[0m\n\u001b[0m\u001b[0;32m      5\u001b[0m         \u001b[0mdata\u001b[0m\u001b[1;33m[\u001b[0m\u001b[1;34m'abilities'\u001b[0m\u001b[1;33m]\u001b[0m \u001b[1;33m=\u001b[0m \u001b[0mscraper\u001b[0m\u001b[1;33m.\u001b[0m\u001b[0mget_abilities\u001b[0m\u001b[1;33m(\u001b[0m\u001b[0murl\u001b[0m\u001b[1;33m)\u001b[0m\u001b[1;33m\u001b[0m\u001b[1;33m\u001b[0m\u001b[0m\n\u001b[0;32m      6\u001b[0m         \u001b[0mdata_list\u001b[0m\u001b[1;33m.\u001b[0m\u001b[0mappend\u001b[0m\u001b[1;33m(\u001b[0m\u001b[0mdata\u001b[0m\u001b[1;33m)\u001b[0m\u001b[1;33m\u001b[0m\u001b[1;33m\u001b[0m\u001b[0m\n",
      "\u001b[1;31mTypeError\u001b[0m: get_profile_data() missing 2 required positional arguments: 'ua_list' and 'sec_list'"
     ]
    }
   ],
   "source": [
    "with open('fm_urls.txt') as f:\n",
    "    data_list = []\n",
    "    for url in f:\n",
    "        data = get_profile_data(url)\n",
    "        data['abilities'] = scraper.get_abilities(url)\n",
    "        data_list.append(data)\n",
    "        \n",
    "with open('data.json', 'w') as json_file:  \n",
    "    json.dump(data_list, json_file, indent=2)"
   ]
  },
  {
   "cell_type": "code",
   "execution_count": 4,
   "metadata": {},
   "outputs": [
    {
     "data": {
      "text/plain": [
       "7"
      ]
     },
     "execution_count": 4,
     "metadata": {},
     "output_type": "execute_result"
    }
   ],
   "source": [
    "nation = \"NigeriaMain 40 caps / 0 goalsYouth 5 caps / 0 goals\"\n",
    "nation.index(\"Main\")"
   ]
  },
  {
   "cell_type": "code",
   "execution_count": 6,
   "metadata": {},
   "outputs": [
    {
     "data": {
      "text/plain": [
       "'Germany'"
      ]
     },
     "execution_count": 6,
     "metadata": {},
     "output_type": "execute_result"
    }
   ],
   "source": [
    "nation2 = \"Germany 0 caps / 0 goalsYouth 0 caps / 0 goals\"\n",
    "\n",
    "try:\n",
    "    res = nation2.index(\"Main\")\n",
    "except ValueError:\n",
    "    res = nation2.split(' ')[0]\n",
    "\n",
    "res"
   ]
  },
  {
   "cell_type": "code",
   "execution_count": 12,
   "metadata": {},
   "outputs": [
    {
     "name": "stdout",
     "output_type": "stream",
     "text": [
      "Eden Hazard \n",
      "Kevin De Bruyne \n",
      "Harry Kane \n",
      "Mohamed Salah \n"
     ]
    },
    {
     "ename": "AttributeError",
     "evalue": "'NoneType' object has no attribute 'find'",
     "output_type": "error",
     "traceback": [
      "\u001b[1;31m---------------------------------------------------------------------------\u001b[0m",
      "\u001b[1;31mAttributeError\u001b[0m                            Traceback (most recent call last)",
      "\u001b[1;32m<ipython-input-12-55268b5c3721>\u001b[0m in \u001b[0;36m<module>\u001b[1;34m\u001b[0m\n\u001b[0;32m      2\u001b[0m     \u001b[0mdata_list\u001b[0m \u001b[1;33m=\u001b[0m \u001b[1;33m[\u001b[0m\u001b[1;33m]\u001b[0m\u001b[1;33m\u001b[0m\u001b[1;33m\u001b[0m\u001b[0m\n\u001b[0;32m      3\u001b[0m     \u001b[1;32mfor\u001b[0m \u001b[0murl\u001b[0m \u001b[1;32min\u001b[0m \u001b[0mf\u001b[0m\u001b[1;33m:\u001b[0m\u001b[1;33m\u001b[0m\u001b[1;33m\u001b[0m\u001b[0m\n\u001b[1;32m----> 4\u001b[1;33m         \u001b[0mdata\u001b[0m \u001b[1;33m=\u001b[0m \u001b[0mget_profile_data\u001b[0m\u001b[1;33m(\u001b[0m\u001b[0murl\u001b[0m\u001b[1;33m,\u001b[0m \u001b[1;33m[\u001b[0m\u001b[1;33m]\u001b[0m\u001b[1;33m,\u001b[0m \u001b[0mrand_sec\u001b[0m\u001b[1;33m)\u001b[0m\u001b[1;33m\u001b[0m\u001b[1;33m\u001b[0m\u001b[0m\n\u001b[0m\u001b[0;32m      5\u001b[0m         \u001b[0mdata\u001b[0m\u001b[1;33m[\u001b[0m\u001b[1;34m'abilities'\u001b[0m\u001b[1;33m]\u001b[0m \u001b[1;33m=\u001b[0m \u001b[0mscraper\u001b[0m\u001b[1;33m.\u001b[0m\u001b[0mget_abilities\u001b[0m\u001b[1;33m(\u001b[0m\u001b[0murl\u001b[0m\u001b[1;33m,\u001b[0m \u001b[1;32mFalse\u001b[0m\u001b[1;33m,\u001b[0m \u001b[1;33m[\u001b[0m\u001b[1;33m]\u001b[0m\u001b[1;33m,\u001b[0m \u001b[0mrand_sec\u001b[0m\u001b[1;33m)\u001b[0m\u001b[1;33m\u001b[0m\u001b[1;33m\u001b[0m\u001b[0m\n\u001b[0;32m      6\u001b[0m         \u001b[0mdata_list\u001b[0m\u001b[1;33m.\u001b[0m\u001b[0mappend\u001b[0m\u001b[1;33m(\u001b[0m\u001b[0mdata\u001b[0m\u001b[1;33m)\u001b[0m\u001b[1;33m\u001b[0m\u001b[1;33m\u001b[0m\u001b[0m\n",
      "\u001b[1;32m<ipython-input-10-b8d14c771e2c>\u001b[0m in \u001b[0;36mget_profile_data\u001b[1;34m(url, ua_list, sec_list)\u001b[0m\n\u001b[0;32m     18\u001b[0m     \u001b[0mpage\u001b[0m \u001b[1;33m=\u001b[0m \u001b[0mrequests\u001b[0m\u001b[1;33m.\u001b[0m\u001b[0mget\u001b[0m\u001b[1;33m(\u001b[0m\u001b[0murl\u001b[0m\u001b[1;33m,\u001b[0m  \u001b[0mheaders\u001b[0m \u001b[1;33m=\u001b[0m \u001b[1;33m{\u001b[0m\u001b[1;34m'User-Agent'\u001b[0m\u001b[1;33m:\u001b[0m\u001b[1;34m'Mozilla/5.0'\u001b[0m\u001b[1;33m}\u001b[0m\u001b[1;33m)\u001b[0m\u001b[1;33m\u001b[0m\u001b[1;33m\u001b[0m\u001b[0m\n\u001b[0;32m     19\u001b[0m     \u001b[0msoup\u001b[0m \u001b[1;33m=\u001b[0m \u001b[0mbs\u001b[0m\u001b[1;33m(\u001b[0m\u001b[0mpage\u001b[0m\u001b[1;33m.\u001b[0m\u001b[0mcontent\u001b[0m\u001b[1;33m,\u001b[0m \u001b[1;34m'html.parser'\u001b[0m\u001b[1;33m)\u001b[0m\u001b[1;33m\u001b[0m\u001b[1;33m\u001b[0m\u001b[0m\n\u001b[1;32m---> 20\u001b[1;33m     \u001b[0mrows\u001b[0m \u001b[1;33m=\u001b[0m \u001b[0msoup\u001b[0m\u001b[1;33m.\u001b[0m\u001b[0mfind\u001b[0m\u001b[1;33m(\u001b[0m\u001b[1;34m\"table\"\u001b[0m\u001b[1;33m)\u001b[0m\u001b[1;33m.\u001b[0m\u001b[0mfind\u001b[0m\u001b[1;33m(\u001b[0m\u001b[1;34m\"tbody\"\u001b[0m\u001b[1;33m)\u001b[0m\u001b[1;33m.\u001b[0m\u001b[0mfind_all\u001b[0m\u001b[1;33m(\u001b[0m\u001b[1;34m\"tr\"\u001b[0m\u001b[1;33m)\u001b[0m\u001b[1;33m[\u001b[0m\u001b[1;36m0\u001b[0m\u001b[1;33m]\u001b[0m\u001b[1;33m\u001b[0m\u001b[1;33m\u001b[0m\u001b[0m\n\u001b[0m\u001b[0;32m     21\u001b[0m     \u001b[0mtables\u001b[0m \u001b[1;33m=\u001b[0m \u001b[0mpd\u001b[0m\u001b[1;33m.\u001b[0m\u001b[0mread_html\u001b[0m\u001b[1;33m(\u001b[0m\u001b[0mpage\u001b[0m\u001b[1;33m.\u001b[0m\u001b[0mtext\u001b[0m\u001b[1;33m)\u001b[0m\u001b[1;33m[\u001b[0m\u001b[1;36m0\u001b[0m\u001b[1;33m]\u001b[0m\u001b[1;33m\u001b[0m\u001b[1;33m\u001b[0m\u001b[0m\n\u001b[0;32m     22\u001b[0m     \u001b[0mimg_meta\u001b[0m \u001b[1;33m=\u001b[0m \u001b[0mrows\u001b[0m\u001b[1;33m.\u001b[0m\u001b[0mfindAll\u001b[0m\u001b[1;33m(\u001b[0m\u001b[1;34m'img'\u001b[0m\u001b[1;33m)\u001b[0m\u001b[1;33m[\u001b[0m\u001b[1;36m0\u001b[0m\u001b[1;33m]\u001b[0m\u001b[1;33m\u001b[0m\u001b[1;33m\u001b[0m\u001b[0m\n",
      "\u001b[1;31mAttributeError\u001b[0m: 'NoneType' object has no attribute 'find'"
     ]
    }
   ],
   "source": [
    "with open('fm_urls.txt') as f:\n",
    "    data_list = []\n",
    "    for url in f:\n",
    "        data = get_profile_data(url, [], rand_sec)\n",
    "        data['abilities'] = scraper.get_abilities(url, False, [], rand_sec)\n",
    "        data_list.append(data)\n",
    "        \n",
    "with open('fm_data1.json', 'w') as json_file:  \n",
    "    json.dump(data_list, json_file, indent=2)"
   ]
  },
  {
   "cell_type": "code",
   "execution_count": 69,
   "metadata": {
    "scrolled": true
   },
   "outputs": [
    {
     "name": "stdout",
     "output_type": "stream",
     "text": [
      "Nathan Waterston \n"
     ]
    }
   ],
   "source": [
    "url3 = 'https://fmdataba.com/19/p/32421/nathan-waterston/'\n",
    "data = get_profile_data(url3, user_agents)\n",
    "data['abilities'] = scraper.get_abilities(url3)\n",
    "data_list.append(data)\n",
    "with open('data2.json', 'w') as json_file:  \n",
    "    json.dump(data_list, json_file, indent=2)"
   ]
  },
  {
   "cell_type": "code",
   "execution_count": 2,
   "metadata": {},
   "outputs": [
    {
     "name": "stdout",
     "output_type": "stream",
     "text": [
      "Collecting selenium\n",
      "  Downloading https://files.pythonhosted.org/packages/80/d6/4294f0b4bce4de0abf13e17190289f9d0613b0a44e5dd6a7f5ca98459853/selenium-3.141.0-py2.py3-none-any.whl (904kB)\n",
      "Requirement already satisfied: urllib3 in c:\\users\\yj\\appdata\\local\\programs\\python\\python37\\lib\\site-packages (from selenium) (1.25.3)\n",
      "Installing collected packages: selenium\n",
      "Successfully installed selenium-3.141.0\n"
     ]
    }
   ],
   "source": [
    "!pip install selenium"
   ]
  },
  {
   "cell_type": "code",
   "execution_count": 1,
   "metadata": {},
   "outputs": [],
   "source": [
    "from selenium import webdriver\n",
    "from selenium.webdriver.common.keys import Keys\n",
    "from time import sleep"
   ]
  },
  {
   "cell_type": "code",
   "execution_count": 2,
   "metadata": {},
   "outputs": [],
   "source": [
    "from datetime import date\n",
    "\n",
    "def calculateAge(birthDate): \n",
    "    today = date.today() \n",
    "    age = today.year - birthDate.year - ((today.month, today.day) < (birthDate.month, birthDate.day)) \n",
    "  \n",
    "    return age\n",
    "\n",
    "def date_to_age(date_str):\n",
    "    bdate = date_str.split('/')\n",
    "    try:\n",
    "        day, month, year = int(bdate[0]), int(bdate[1]), int(bdate[2])\n",
    "        bdate = date(year, month, day)\n",
    "        age = calculateAge(bdate)\n",
    "    except:\n",
    "        age = 'Unknown'\n",
    "\n",
    "    return age"
   ]
  },
  {
   "cell_type": "code",
   "execution_count": 3,
   "metadata": {},
   "outputs": [],
   "source": [
    "# -*- coding: utf-8 -*-\n",
    "import os\n",
    "import requests\n",
    "import uuid\n",
    "import json\n",
    "import random\n",
    "\n",
    "subscriptionKey = '8fca75eea9a942fbab9917743d164cc2'\n",
    "\n",
    "base_url = 'https://api.cognitive.microsofttranslator.com/translate?api-version=3.0'\n",
    "params = '&from=en&to=ko'\n",
    "constructed_url = base_url + params\n",
    "\n",
    "headers = {\n",
    "    'Ocp-Apim-Subscription-Key': subscriptionKey,\n",
    "    'Content-type': 'application/json',\n",
    "    'X-ClientTraceId': str(uuid.uuid4())\n",
    "}"
   ]
  },
  {
   "cell_type": "code",
   "execution_count": 41,
   "metadata": {
    "scrolled": true
   },
   "outputs": [
    {
     "name": "stdout",
     "output_type": "stream",
     "text": [
      "current =  https://fmdataba.com/19/p/9857/jamie-paterson/\n",
      "TECHNICAL\n",
      "Corners 10\n",
      "Crossing 12\n",
      "Dribbling 14\n",
      "Finishing 12\n",
      "First Touch 12\n",
      "Free Kick 11\n",
      "Heading 10\n",
      "Long Shots 12\n",
      "Long Throws 4\n",
      "Marking 5\n",
      "Passing 14\n",
      "Penalty Taking 13\n",
      "Tackling 4\n",
      "Technique 13\n",
      "PHYSICAL\n",
      "Acceleration 12\n",
      "Agility 12\n",
      "Balance 12\n",
      "Jumping Reach 8\n",
      "Natural Fitness 12\n",
      "Pace 13\n",
      "Stamina 12\n",
      "Strength 9\n",
      "MENTAL\n",
      "Aggression 10\n",
      "Anticipation 14\n",
      "Bravery 7\n",
      "Composure 12\n",
      "Concentration 12\n",
      "Decisions 12\n",
      "Determination 10\n",
      "Flair 15\n",
      "Leadership 8\n",
      "Off The Ball 13\n",
      "Positioning 10\n",
      "Teamwork 12\n",
      "Vision 13\n",
      "Work Rate 13\n"
     ]
    }
   ],
   "source": [
    "driver = webdriver.Chrome('chromedriver.exe')\n",
    "driver.implicitly_wait(3)\n",
    "# wait page to load\n",
    "sleep(1)\n",
    "username = 'pyscent'\n",
    "password = 'vc3pgrh9'\n",
    "\n",
    "# login to Leetcode\n",
    "driver.get('https://fmdataba.com/sign.php?ne=2')\n",
    "driver.find_element_by_xpath('//*[@id=\"username\"]').send_keys(username)\n",
    "driver.find_element_by_xpath('//*[@id=\"password3\"]').send_keys(password)\n",
    "#driver.find_element_by_xpath('//*[@id=\"form61\"]/div[5]/div[1]/input').send_keys(Keys.ENTER)\n",
    "\n",
    "# driver.get('https://leetcode.com/problemset/all/')\n",
    "# load page\n",
    "\n",
    "\n",
    "\n",
    "# with open('fm_url3.txt') as f:\n",
    "for url in ['https://fmdataba.com/19/p/9857/jamie-paterson/']:\n",
    "    print('current = ', url)\n",
    "    driver.get(url)\n",
    "    # wait page to load\n",
    "    sleep(random.choice([1,2,3,4]))\n",
    "    data = driver.find_element_by_class_name('panel-body')\n",
    "    info_body = driver.find_element_by_xpath('/html/body/div[3]/div/div/div[2]/div[1]/table/tbody')\n",
    "    rows = info_body.find_elements_by_xpath(\".//tr\")\n",
    "    tech_tab = driver.find_element_by_xpath('/html/body/div[3]/div/div/div[2]/div[2]/div[2]/div')\n",
    "\n",
    "    mental_tab = driver.find_element_by_xpath('/html/body/div[3]/div/div/div[2]/div[2]/div[3]/div')\n",
    "    phys_tab = driver.find_element_by_xpath('/html/body/div[3]/div/div/div[2]/div[2]/div[6]/div[1]/div')\n",
    "\n",
    "    heading = driver.find_element_by_class_name('panel-heading')\n",
    "    img = driver.find_element_by_class_name('img-responsive')\n",
    "\n",
    "\n",
    "    \n",
    "    # Player name\n",
    "    name = heading.text.split('FM')[0].rstrip()\n",
    "\n",
    "    # Image URL\n",
    "    img_url = img.get_attribute('src')\n",
    "\n",
    "    # 20: Age\n",
    "\n",
    "    if len(rows[9].text.split('\\n')[0]) > 3:\n",
    "        bdate = rows[9].text.split('\\n')[0].split(' ')[1].replace('(', '').replace(')', '')\n",
    "    else:\n",
    "        bdate = 'Unknown'\n",
    "\n",
    "    # 28: Nation\n",
    "    nation = rows[13].text[7:].split('\\n')[0]\n",
    "\n",
    "    # 37: Foot\n",
    "    foot = rows[20].text[10:]\n",
    "\n",
    "    # 51 - 64: Tech\n",
    "\n",
    "    technical = {}\n",
    "    for stat in tech_tab.text.split('\\n')[1:]:\n",
    "        item = stat.split(' ')\n",
    "        if len(item) == 2:\n",
    "            ability, rate = item[0], item[1]\n",
    "        if len(item) == 3:\n",
    "            ability, rate = '{} {}'.format(item[0], item[1]), item[2]\n",
    "        technical[ability] = int(rate)\n",
    "\n",
    "    # 66 - 79: Mental\n",
    "    mental = {}\n",
    "    for stat in mental_tab.text.split('\\n')[1:]:\n",
    "        item = stat.split(' ')\n",
    "        if len(item) == 2:\n",
    "            ability, rate = item[0], item[1]\n",
    "        if len(item) == 3:\n",
    "            ability, rate = '{} {}'.format(item[0], item[1]), item[2]\n",
    "        if len(item) == 4:\n",
    "            ability, rate = '{} {} {}'.format(item[0], item[1], item[2]), item[3]\n",
    "        mental[ability] = int(rate)\n",
    "\n",
    "    # 81 - 88: Physical\n",
    "    physical = {}\n",
    "    for stat in phys_tab.text.split('\\n')[1:]:\n",
    "        item = stat.split(' ')\n",
    "        if len(item) == 2:\n",
    "            ability, rate = item[0], item[1]\n",
    "        if len(item) == 3:\n",
    "            ability, rate = '{} {}'.format(item[0], item[1]), item[2]\n",
    "        physical[ability] = int(rate)\n",
    "\n",
    "    abilities = {}\n",
    "    abilities['technical'] = technical\n",
    "    abilities['mental'] = mental\n",
    "    abilities['physical'] = physical\n",
    "\n",
    "    # 100: Position\n",
    "    if len(rows) < 23:\n",
    "        pos = rows[21].text[9:]\n",
    "    else:\n",
    "        pos = rows[22].text[9:]\n",
    "\n",
    "    body = [{\n",
    "        'text': name\n",
    "    }]\n",
    "\n",
    "    request = requests.post(constructed_url, headers=headers, json=body)\n",
    "    response = request.json()\n",
    "\n",
    "    kor_name = response[0]['translations'][0]['text']\n",
    "    korean = '' \n",
    "    for word in kor_name:\n",
    "        if word != ' ':\n",
    "            korean += word + ' '\n",
    "\n",
    "    player_obj = {\n",
    "        'profile_img': img_url,\n",
    "        'name': name,\n",
    "        'birth_date': bdate,\n",
    "        'nation': nation,\n",
    "        'position': pos,\n",
    "        'foot': foot,\n",
    "        'korean': korean.rstrip(),\n",
    "        'abilities': abilities\n",
    "    }\n",
    "\n",
    "    with open('players/{}.json'.format(name), 'w', encoding='UTF-8-sig') as json_file:  \n",
    "        json.dump(player_obj, json_file, indent=2, ensure_ascii=False)\n",
    "    sleep(random.choice([1,2]))"
   ]
  },
  {
   "cell_type": "code",
   "execution_count": 23,
   "metadata": {},
   "outputs": [
    {
     "data": {
      "text/plain": [
       "['Aggression 4',\n",
       " 'Anticipation 10',\n",
       " 'Bravery 7',\n",
       " 'Composure 12',\n",
       " 'Concentration 8',\n",
       " 'Decisions 11',\n",
       " 'Determination 12',\n",
       " 'Flair 14',\n",
       " 'Leadership 8',\n",
       " 'Off The Ball 12',\n",
       " 'Positioning 5',\n",
       " 'Teamwork 13',\n",
       " 'Vision 11',\n",
       " 'Work Rate 13']"
      ]
     },
     "execution_count": 23,
     "metadata": {},
     "output_type": "execute_result"
    }
   ],
   "source": [
    "mental_tab.text.split('\\n')[1:]"
   ]
  },
  {
   "cell_type": "code",
   "execution_count": 12,
   "metadata": {},
   "outputs": [
    {
     "name": "stdout",
     "output_type": "stream",
     "text": [
      "current =  https://fmdataba.com/19/p/49638/zlatan-ibrahimovic/\n",
      "Kor Name :    즐 라 탄 이 브 라 히 모 비 치\n"
     ]
    }
   ],
   "source": [
    "driver = webdriver.Chrome('chromedriver.exe')\n",
    "driver.implicitly_wait(3)\n",
    "# wait page to load\n",
    "sleep(1)\n",
    "username = 'mayfield15'\n",
    "password = 'yongjin15'\n",
    "\n",
    "# login to Leetcode\n",
    "driver.get('https://fmdataba.com/sign.php?ne=2')\n",
    "driver.find_element_by_xpath('//*[@id=\"username\"]').send_keys(username)\n",
    "driver.find_element_by_xpath('//*[@id=\"password3\"]').send_keys(password)\n",
    "# driver.find_element_by_xpath('//*[@id=\"form61\"]/div[5]/div[1]/input').send_keys(Keys.ENTER)\n",
    "\n",
    "# driver.get('https://leetcode.com/problemset/all/')\n",
    "# load page\n",
    "\n",
    "\n",
    "\n",
    "with open('argentina.txt') as f:\n",
    "    for url in ['https://fmdataba.com/19/p/49638/zlatan-ibrahimovic/']:\n",
    "        print('current = ', url)\n",
    "        driver.get(url)\n",
    "        # wait page to load\n",
    "        sleep(random.choice([1,2,3,4]))\n",
    "        data = driver.find_element_by_class_name('panel-body')\n",
    "        info_body = driver.find_element_by_xpath('/html/body/div[3]/div/div/div[2]/div[1]/table/tbody')\n",
    "        rows = info_body.find_elements_by_xpath(\".//tr\")\n",
    "        tech_tab = driver.find_element_by_xpath('/html/body/div[3]/div/div/div[2]/div[2]/div[2]/div')\n",
    "\n",
    "        mental_tab = driver.find_element_by_xpath('/html/body/div[3]/div/div/div[2]/div[2]/div[3]/div')\n",
    "        phys_tab = driver.find_element_by_xpath('/html/body/div[3]/div/div/div[2]/div[2]/div[5]/div[1]/div')\n",
    "\n",
    "        heading = driver.find_element_by_class_name('panel-heading')\n",
    "        img = driver.find_element_by_class_name('img-responsive')\n",
    "\n",
    "        \n",
    "        if not mental_tab.text.split('\\n')[1:]:\n",
    "            print('no mental')\n",
    "            break\n",
    "        \n",
    "        # Player name\n",
    "        name = heading.text.split('FM')[0].rstrip()\n",
    "\n",
    "        # Image URL\n",
    "        img_url = img.get_attribute('src')\n",
    "        if img_url == 'https://fmdataba.com/images/noimage.png':\n",
    "            print('         No Image Skip')\n",
    "            continue\n",
    "            \n",
    "        # 20: Age\n",
    "\n",
    "        #for i, r in enumerate(rows):\n",
    "        #    print('i ', i, ' ', r.text)\n",
    "        \n",
    "        \n",
    "        if len(rows[22].text.split('\\n')[0]) > 3:\n",
    "            bdate = rows[22].text.split('\\n')[0].split(' ')[1].replace('(', '').replace(')', '')\n",
    "        else:\n",
    "            bdate = 'Unknown'\n",
    "            \n",
    "        # 28: Nation\n",
    "        nation = rows[29].text[7:].split('\\n')[0]\n",
    "\n",
    "        # 37: Foot\n",
    "        foot = rows[36].text[10:]\n",
    "\n",
    "        # 51 - 64: Tech\n",
    "\n",
    "        technical = {}\n",
    "        for stat in tech_tab.text.split('\\n')[1:]:\n",
    "            item = stat.split(' ')\n",
    "            if len(item) == 2:\n",
    "                ability, rate = item[0], item[1]\n",
    "            if len(item) == 3:\n",
    "                ability, rate = '{} {}'.format(item[0], item[1]), item[2]\n",
    "            technical[ability] = int(rate)\n",
    "\n",
    "        # 66 - 79: Mental\n",
    "        mental = {}\n",
    "        for stat in mental_tab.text.split('\\n')[1:]:\n",
    "            item = stat.split(' ')\n",
    "            if len(item) == 2:\n",
    "                ability, rate = item[0], item[1]\n",
    "            if len(item) == 3:\n",
    "                ability, rate = '{} {}'.format(item[0], item[1]), item[2]\n",
    "            if len(item) == 4:\n",
    "                ability, rate = '{} {} {}'.format(item[0], item[1], item[2]), item[3]\n",
    "            mental[ability] = int(rate)\n",
    "\n",
    "        # 81 - 88: Physical\n",
    "        physical = {}\n",
    "        for stat in phys_tab.text.split('\\n')[1:]:\n",
    "            item = stat.split(' ')\n",
    "            if len(item) == 2:\n",
    "                ability, rate = item[0], item[1]\n",
    "            if len(item) == 3:\n",
    "                ability, rate = '{} {}'.format(item[0], item[1]), item[2]\n",
    "            physical[ability] = int(rate)\n",
    "\n",
    "        abilities = {}\n",
    "        abilities['technical'] = technical\n",
    "        abilities['mental'] = mental\n",
    "        abilities['physical'] = physical\n",
    "\n",
    "        # 100: Position\n",
    "        if len(rows) < 36:\n",
    "            pos = rows[25].text[9:]\n",
    "        else:\n",
    "            pos = rows[25].text[9:]\n",
    "\n",
    "        body = [{\n",
    "            'text': name\n",
    "        }]\n",
    "        ranum = random.choice([2,4])\n",
    "        if ranum == 2:\n",
    "            sleep(5)\n",
    "        request = requests.post(constructed_url, headers=headers, json=body)\n",
    "        response = request.json()\n",
    "\n",
    "        kor_name = response[0]['translations'][0]['text']\n",
    "        korean = '' \n",
    "        for word in kor_name:\n",
    "            if word != ' ':\n",
    "                korean += word + ' '\n",
    "        print('Kor Name :   ', korean.rstrip())\n",
    "        player_obj = {\n",
    "            'profile_img': img_url,\n",
    "            'name': name,\n",
    "            'birth_date': bdate,\n",
    "            'nation': nation,\n",
    "            'position': pos,\n",
    "            'foot': foot,\n",
    "            'korean': korean.rstrip(),\n",
    "            'abilities': abilities\n",
    "        }\n",
    "\n",
    "        with open('argentina/{}.json'.format(name), 'w', encoding='UTF-8-sig') as json_file:  \n",
    "            json.dump(player_obj, json_file, indent=2, ensure_ascii=False)\n",
    "        sleep(random.choice([6, 10,14]))\n",
    "        break"
   ]
  },
  {
   "cell_type": "code",
   "execution_count": 19,
   "metadata": {},
   "outputs": [
    {
     "name": "stdout",
     "output_type": "stream",
     "text": [
      "0  :  \n",
      "1  :  Overall\n",
      "12\n",
      "Good\n",
      "2  :  Attacking\n",
      "12\n",
      "Good\n",
      "3  :  Defending\n",
      "12\n",
      "Good\n",
      "4  :  Technical\n",
      "12\n",
      "Good\n",
      "5  :  Mental\n",
      "13\n",
      "Good\n",
      "6  :  Physical\n",
      "14\n",
      "Very Good\n",
      "7  :  Not Bad\n",
      "3 average vote / 10 people vote.\n",
      "8  :  \n",
      "9  :  Best Attributes\n",
      "Determination 17\n",
      "Bravery 16\n",
      "Aggression 16\n",
      "Stamina 16\n",
      "Heading 16\n",
      "Worst Attributes\n",
      "Passing 10\n",
      "Teamwork 10\n",
      "Crossing 11\n",
      "Positioning 11\n",
      "Vision 11\n",
      "10  :  Best Attributes\n",
      "11  :  Determination 17\n",
      "12  :  Bravery 16\n",
      "13  :  Aggression 16\n",
      "14  :  Stamina 16\n",
      "15  :  Heading 16\n",
      "16  :  Worst Attributes\n",
      "17  :  Passing 10\n",
      "18  :  Teamwork 10\n",
      "19  :  Crossing 11\n",
      "20  :  Positioning 11\n",
      "21  :  Vision 11\n",
      "22  :  Age (17/12/1989)\n",
      "28 years old (now 29)\n",
      "23  :  Player Traits\n",
      "► Avoids Using Weaker Foot\n",
      "► Gets Into Opposition Area\n",
      "24  :  Height 176 cm / 5'9''\n",
      "25  :  Weight 72 kg\n",
      "26  :  Nation Ghana\n",
      "Main 75 caps / 14 goals\n",
      "Youth 12 caps / 4 goals\n",
      "27  :  League Süper Lig\n",
      "28  :  Club Fenerbahçe\n",
      "29  :  Value € 15.5M\n",
      "30  :  Wage € 4,634,000 p/a\n",
      "31  :  Status -\n",
      "32  :  Contrat 30/6/2021\n",
      "33  :  Pre. Foot Left Only\n",
      "34  :  \n",
      "35  :  Position M (RL), AM (RLC), ST (C)\n"
     ]
    }
   ],
   "source": [
    "for i, r in enumerate(rows):\n",
    "    print(i, ' : ', r.text)"
   ]
  },
  {
   "cell_type": "code",
   "execution_count": 20,
   "metadata": {},
   "outputs": [
    {
     "data": {
      "text/plain": [
       "36"
      ]
     },
     "execution_count": 20,
     "metadata": {},
     "output_type": "execute_result"
    }
   ],
   "source": [
    "len(rows)"
   ]
  },
  {
   "cell_type": "code",
   "execution_count": 114,
   "metadata": {},
   "outputs": [
    {
     "name": "stdout",
     "output_type": "stream",
     "text": [
      "루 시 아 노 비 에 토 \n"
     ]
    },
    {
     "data": {
      "text/plain": [
       "str"
      ]
     },
     "execution_count": 114,
     "metadata": {},
     "output_type": "execute_result"
    }
   ],
   "source": [
    "kor_name = response[0]['translations'][0]['text']\n",
    "korean = '' \n",
    "for word in kor_name:\n",
    "    if word != ' ':\n",
    "        korean += word + ' '\n",
    "print(korean)\n",
    "type(korean)"
   ]
  },
  {
   "cell_type": "code",
   "execution_count": 115,
   "metadata": {},
   "outputs": [],
   "source": [
    "player_obj = {\n",
    "    'profile_img': img_url,\n",
    "    'name': name,\n",
    "    'birth_date': bdate,\n",
    "    'nation': nation,\n",
    "    'position': pos,\n",
    "    'foot': foot,\n",
    "    'korean': korean.rstrip(),\n",
    "    'abilities': abilities\n",
    "}"
   ]
  },
  {
   "cell_type": "code",
   "execution_count": 116,
   "metadata": {},
   "outputs": [
    {
     "data": {
      "text/plain": [
       "{'profile_img': 'https://fmdataba.com/images/p/4018.png',\n",
       " 'name': 'Luciano Vietto',\n",
       " 'birth_date': '5/12/1993',\n",
       " 'nation': 'Argentina',\n",
       " 'position': 'AM (RC), ST (C)',\n",
       " 'foot': 'Right',\n",
       " 'korean': '루 시 아 노 비 에 토',\n",
       " 'abilities': {'technical': {'Corners': 8,\n",
       "   'Crossing': 11,\n",
       "   'Dribbling': 14,\n",
       "   'Finishing': 12,\n",
       "   'First Touch': 14,\n",
       "   'Free Kick': 10,\n",
       "   'Heading': 8,\n",
       "   'Long Shots': 10,\n",
       "   'Long Throws': 7,\n",
       "   'Marking': 4,\n",
       "   'Passing': 11,\n",
       "   'Penalty Taking': 13,\n",
       "   'Tackling': 7,\n",
       "   'Technique': 14},\n",
       "  'mental': {'Aggression': 8,\n",
       "   'Anticipation': 13,\n",
       "   'Bravery': 11,\n",
       "   'Composure': 13,\n",
       "   'Concentration': 13,\n",
       "   'Decisions': 12,\n",
       "   'Determination': 15,\n",
       "   'Flair': 15,\n",
       "   'Leadership': 9,\n",
       "   'Off The Ball': 14,\n",
       "   'Positioning': 7,\n",
       "   'Teamwork': 13,\n",
       "   'Vision': 13,\n",
       "   'Work Rate': 12},\n",
       "  'physical': {'Acceleration': 15,\n",
       "   'Agility': 16,\n",
       "   'Balance': 13,\n",
       "   'Jumping Reach': 5,\n",
       "   'Natural Fitness': 13,\n",
       "   'Pace': 14,\n",
       "   'Stamina': 14,\n",
       "   'Strength': 6}}}"
      ]
     },
     "execution_count": 116,
     "metadata": {},
     "output_type": "execute_result"
    }
   ],
   "source": [
    "player_obj"
   ]
  },
  {
   "cell_type": "code",
   "execution_count": 118,
   "metadata": {},
   "outputs": [],
   "source": [
    "with open('players/{}.json'.format(name), 'w', encoding='UTF-8-sig') as json_file:  \n",
    "    json.dump(player_obj, json_file, indent=2, ensure_ascii=False)"
   ]
  },
  {
   "cell_type": "code",
   "execution_count": null,
   "metadata": {},
   "outputs": [],
   "source": []
  }
 ],
 "metadata": {
  "kernelspec": {
   "display_name": "Python 3",
   "language": "python",
   "name": "python3"
  },
  "language_info": {
   "codemirror_mode": {
    "name": "ipython",
    "version": 3
   },
   "file_extension": ".py",
   "mimetype": "text/x-python",
   "name": "python",
   "nbconvert_exporter": "python",
   "pygments_lexer": "ipython3",
   "version": "3.7.2"
  }
 },
 "nbformat": 4,
 "nbformat_minor": 2
}
